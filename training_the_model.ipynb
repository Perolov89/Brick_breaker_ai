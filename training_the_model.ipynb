{
 "cells": [
  {
   "cell_type": "markdown",
   "metadata": {},
   "source": [
    "# Imports"
   ]
  },
  {
   "cell_type": "code",
   "execution_count": null,
   "metadata": {},
   "outputs": [],
   "source": [
    "import tensorflow as tf\n",
    "from keras import Sequential\n",
    "\n",
    "from keras.api.layers import *\n",
    "import numpy as np\n",
    "import random\n",
    "import matplotlib.pyplot as plt"
   ]
  },
  {
   "cell_type": "markdown",
   "metadata": {},
   "source": [
    "# Hyperparameters"
   ]
  },
  {
   "cell_type": "code",
   "execution_count": null,
   "metadata": {},
   "outputs": [],
   "source": [
    "gamma = 0.99  # Discount factor (Increase gamma to encourage long-term rewards)\n",
    "epsilon = 1  # Exploration rate\n",
    "epsilon_min = 0.1\n",
    "epsilon_decay = 0.95 # Decay in exploration\n",
    "learning_rate = 0.001 # Reasonable learning rate for 32 batch size\n",
    "batch_size = 32\n",
    "memory = []"
   ]
  },
  {
   "cell_type": "markdown",
   "metadata": {},
   "source": [
    "# Build the DQN"
   ]
  },
  {
   "cell_type": "code",
   "execution_count": null,
   "metadata": {},
   "outputs": [],
   "source": [
    "\n",
    "model = Sequential([\n",
    "    Input(shape=(7,)), \n",
    "    Dense(32, activation='relu'),\n",
    "    Dense(32, activation='relu'),\n",
    "    Dense(3, activation='linear')\n",
    "])\n",
    "model.compile(optimizer=tf.keras.optimizers.Adam(learning_rate=learning_rate), loss='mse')"
   ]
  },
  {
   "cell_type": "markdown",
   "metadata": {},
   "source": [
    "# Experience replay"
   ]
  },
  {
   "cell_type": "code",
   "execution_count": null,
   "metadata": {},
   "outputs": [],
   "source": [
    "def replay():\n",
    "    td_errors = []\n",
    "    for state, action, reward, next_state, done in memory:\n",
    "        # debugging\n",
    "        if state.shape[-1] != 7 or next_state.shape[-1] != 7:\n",
    "            raise ValueError(f\"State or next_state has incorrect shape: \"\n",
    "                            f\"{state.shape}, {next_state.shape}\")\n",
    "        # \n",
    "        target = reward\n",
    "        if not done:\n",
    "            target += gamma * np.amax(model.predict(next_state[np.newaxis]))\n",
    "        predicted = model.predict(state[np.newaxis])[0][action]\n",
    "        td_errors.append(abs(target - predicted))\n",
    "\n",
    "    probabilities = np.array(td_errors) / sum(td_errors)\n",
    "    batch_indices = np.random.choice(len(memory), batch_size, p=probabilities)\n",
    "    batch = [memory[i] for i in batch_indices]\n",
    "    # debugging\n",
    "    for sample in batch:\n",
    "        state, action, reward, next_state, done = sample\n",
    "        assert state.shape[-1] == 7 and next_state.shape[-1] == 7, \\\n",
    "            f\"Sampled state or next_state has incorrect shape: {state.shape}, {next_state.shape}\"\n",
    "    # \n",
    "\n",
    "    for state, action, reward, next_state, done in batch:\n",
    "        target = reward\n",
    "        if not done:\n",
    "            target += gamma * np.amax(model.predict(next_state[np.newaxis]))\n",
    "        target_f = model.predict(state[np.newaxis])\n",
    "        target_f[0][action] = target\n",
    "        model.fit(state[np.newaxis], target_f, epochs=1, verbose=0)"
   ]
  },
  {
   "cell_type": "markdown",
   "metadata": {},
   "source": [
    "# Train the model"
   ]
  },
  {
   "cell_type": "code",
   "execution_count": null,
   "metadata": {},
   "outputs": [],
   "source": [
    "from main import BrickBreakerEnv\n",
    "from tqdm import tqdm \n",
    "tf.keras.utils.disable_interactive_logging()\n",
    "\n",
    "env = BrickBreakerEnv()\n",
    "episodes = 100\n",
    "\n",
    "rewards = []\n",
    "scores = []\n",
    "times = []\n",
    "\n",
    "with tqdm(total=episodes, desc=\"Training Progress\") as pbar:\n",
    "    for e in range(episodes):\n",
    "        state = env.reset()\n",
    "        total_reward = 0\n",
    "\n",
    "        for _ in range(200):  # Max steps per episode\n",
    "            if np.random.rand() <= epsilon:\n",
    "                action = env.action_space.sample()  # Exploration\n",
    "            else:\n",
    "                q_values = model.predict(state[np.newaxis])\n",
    "                action = np.argmax(q_values)  # Exploitation: pick best action\n",
    "\n",
    "            next_state, reward, done, info = env.step(action)\n",
    "            memory.append((state, action, reward, next_state, done))\n",
    "            state = next_state\n",
    "\n",
    "            if done:\n",
    "                break\n",
    "\n",
    "        replay()\n",
    "        rewards.append(total_reward)  \n",
    "        scores.append(info['score'])  \n",
    "        times.append(info['time'])    \n",
    "        print(f\"Episode: {e}, Total Reward: {total_reward}, Time: {info['time']:.2f}s, Score: {info['score']}\")\n",
    "\n",
    "        # Update the progress bar\n",
    "        pbar.update(1)\n",
    "\n",
    "\n"
   ]
  },
  {
   "cell_type": "markdown",
   "metadata": {},
   "source": [
    "# Visualization"
   ]
  },
  {
   "cell_type": "code",
   "execution_count": null,
   "metadata": {},
   "outputs": [],
   "source": [
    "import matplotlib.pyplot as plt\n",
    "\n",
    "# Create an episode index\n",
    "episodes_index = list(range(1, len(rewards) + 1))\n",
    "\n",
    "# Plotting\n",
    "plt.figure(figsize=(12, 6))\n",
    "\n",
    "# Rewards plot\n",
    "plt.subplot(1, 3, 1)\n",
    "plt.plot(episodes_index, rewards, label=\"Rewards\", color=\"blue\")\n",
    "plt.title(\"Rewards Over Episodes\")\n",
    "plt.xlabel(\"Episode\")\n",
    "plt.ylabel(\"Total Reward\")\n",
    "plt.grid(True)\n",
    "plt.legend()\n",
    "\n",
    "# Scores plot\n",
    "plt.subplot(1, 3, 2)\n",
    "plt.plot(episodes_index, scores, label=\"Scores\", color=\"orange\")\n",
    "plt.title(\"Scores Over Episodes\")\n",
    "plt.xlabel(\"Episode\")\n",
    "plt.ylabel(\"Score\")\n",
    "plt.grid(True)\n",
    "plt.legend()\n",
    "\n",
    "# Times plot\n",
    "plt.subplot(1, 3, 3)\n",
    "plt.plot(episodes_index, times, label=\"Elapsed Time (s)\", color=\"green\")\n",
    "plt.title(\"Elapsed Time Over Episodes\")\n",
    "plt.xlabel(\"Episode\")\n",
    "plt.ylabel(\"Time (s)\")\n",
    "plt.grid(True)\n",
    "plt.legend()\n",
    "\n",
    "plt.tight_layout()\n",
    "plt.show()"
   ]
  },
  {
   "cell_type": "markdown",
   "metadata": {},
   "source": [
    "# Q-value visualization"
   ]
  },
  {
   "cell_type": "code",
   "execution_count": null,
   "metadata": {},
   "outputs": [],
   "source": [
    "q_values = model.predict(state[np.newaxis])[0]\n",
    "plt.bar([\"Left\", \"Stay\", \"Right\"], q_values)\n",
    "plt.title(f\"Q-values (State: {state})\")\n",
    "plt.show()"
   ]
  },
  {
   "cell_type": "code",
   "execution_count": null,
   "metadata": {},
   "outputs": [],
   "source": [
    "model.save(\"brick_breaker_dqn.keras\")"
   ]
  }
 ],
 "metadata": {
  "kernelspec": {
   "display_name": ".venv",
   "language": "python",
   "name": "python3"
  },
  "language_info": {
   "codemirror_mode": {
    "name": "ipython",
    "version": 3
   },
   "file_extension": ".py",
   "mimetype": "text/x-python",
   "name": "python",
   "nbconvert_exporter": "python",
   "pygments_lexer": "ipython3",
   "version": "3.12.7"
  },
  "orig_nbformat": 4
 },
 "nbformat": 4,
 "nbformat_minor": 2
}
