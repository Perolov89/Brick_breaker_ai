{
 "cells": [
  {
   "cell_type": "markdown",
   "metadata": {},
   "source": [
    "# Imports"
   ]
  },
  {
   "cell_type": "code",
   "execution_count": 15,
   "metadata": {},
   "outputs": [],
   "source": [
    "import tensorflow as tf\n",
    "from keras import Sequential\n",
    "from keras.api.layers import *\n",
    "import numpy as np\n",
    "import random\n",
    "import matplotlib.pyplot as plt"
   ]
  },
  {
   "cell_type": "markdown",
   "metadata": {},
   "source": [
    "# Hyperparameters"
   ]
  },
  {
   "cell_type": "code",
   "execution_count": 16,
   "metadata": {},
   "outputs": [],
   "source": [
    "gamma = 0.99  # Discount factor\n",
    "epsilon = 1.0  # Exploration rate\n",
    "epsilon_min = 0.1\n",
    "epsilon_decay = 0.99\n",
    "learning_rate = 0.001\n",
    "batch_size = 64\n",
    "memory = []"
   ]
  },
  {
   "cell_type": "markdown",
   "metadata": {},
   "source": [
    "# Build the DQN"
   ]
  },
  {
   "cell_type": "code",
   "execution_count": null,
   "metadata": {},
   "outputs": [],
   "source": [
    "\n",
    "model = Sequential([\n",
    "    Dense(24, input_shape=(5,), activation='relu'),\n",
    "    Dense(24, activation='relu'),\n",
    "    Dense(3, activation='linear')  # Output for each action\n",
    "])\n",
    "model.compile(optimizer=tf.keras.optimizers.Adam(learning_rate=learning_rate), loss='mse')"
   ]
  },
  {
   "cell_type": "markdown",
   "metadata": {},
   "source": [
    "# Experience replay"
   ]
  },
  {
   "cell_type": "code",
   "execution_count": 18,
   "metadata": {},
   "outputs": [],
   "source": [
    "def replay():\n",
    "    td_errors = []\n",
    "    for state, action, reward, next_state, done in memory:\n",
    "        target = reward\n",
    "        if not done:\n",
    "            target += gamma * np.amax(model.predict(next_state[np.newaxis]))\n",
    "        predicted = model.predict(state[np.newaxis])[0][action]\n",
    "        td_errors.append(abs(target - predicted))\n",
    "\n",
    "    probabilities = np.array(td_errors) / sum(td_errors)\n",
    "    batch_indices = np.random.choice(len(memory), batch_size, p=probabilities)\n",
    "    batch = [memory[i] for i in batch_indices]\n",
    "\n",
    "    for state, action, reward, next_state, done in batch:\n",
    "        target = reward\n",
    "        if not done:\n",
    "            target += gamma * np.amax(model.predict(next_state[np.newaxis]))\n",
    "        target_f = model.predict(state[np.newaxis])\n",
    "        target_f[0][action] = target\n",
    "        model.fit(state[np.newaxis], target_f, epochs=1, verbose=0)\n",
    "\n",
    "        # correct?\n"
   ]
  },
  {
   "cell_type": "markdown",
   "metadata": {},
   "source": [
    "# Train the model"
   ]
  },
  {
   "cell_type": "code",
   "execution_count": null,
   "metadata": {},
   "outputs": [],
   "source": [
    "from main import BrickBreakerEnv\n",
    "env = BrickBreakerEnv()\n",
    "episodes = 100\n",
    "\n",
    "rewards = []\n",
    "scores = []\n",
    "times = []\n",
    "\n",
    "for e in range(episodes):\n",
    "    state = env.reset()\n",
    "    total_reward = 0\n",
    "\n",
    "    for _ in range(200):  # Max steps per episode\n",
    "        if np.random.rand() <= epsilon:\n",
    "            action = env.action_space.sample()\n",
    "        else:\n",
    "            action = np.argmax(model.predict(state[np.newaxis]))\n",
    "\n",
    "        next_state, reward, done, info = env.step(action)\n",
    "        memory.append((state, action, reward, next_state, done))\n",
    "        state = next_state\n",
    "        total_reward += reward\n",
    "\n",
    "        if done:\n",
    "            break\n",
    "\n",
    "    replay()\n",
    "    rewards.append(total_reward)  \n",
    "    scores.append(info['score'])  \n",
    "    times.append(info['time'])    \n",
    "    print(f\"Episode: {e}, Total Reward: {total_reward}, Time: {info['time']:.2f}s, Score: {info['score']}\")\n",
    "\n"
   ]
  },
  {
   "cell_type": "markdown",
   "metadata": {},
   "source": [
    "# Visualization"
   ]
  },
  {
   "cell_type": "code",
   "execution_count": null,
   "metadata": {},
   "outputs": [],
   "source": [
    "import matplotlib.pyplot as plt\n",
    "\n",
    "# Create an episode index\n",
    "episodes_index = list(range(1, len(rewards) + 1))\n",
    "\n",
    "# Plotting\n",
    "plt.figure(figsize=(12, 6))\n",
    "\n",
    "# Rewards plot\n",
    "plt.subplot(1, 3, 1)\n",
    "plt.plot(episodes_index, rewards, label=\"Rewards\", color=\"blue\")\n",
    "plt.title(\"Rewards Over Episodes\")\n",
    "plt.xlabel(\"Episode\")\n",
    "plt.ylabel(\"Total Reward\")\n",
    "plt.grid(True)\n",
    "plt.legend()\n",
    "\n",
    "# Scores plot\n",
    "plt.subplot(1, 3, 2)\n",
    "plt.plot(episodes_index, scores, label=\"Scores\", color=\"orange\")\n",
    "plt.title(\"Scores Over Episodes\")\n",
    "plt.xlabel(\"Episode\")\n",
    "plt.ylabel(\"Score\")\n",
    "plt.grid(True)\n",
    "plt.legend()\n",
    "\n",
    "# Times plot\n",
    "plt.subplot(1, 3, 3)\n",
    "plt.plot(episodes_index, times, label=\"Elapsed Time (s)\", color=\"green\")\n",
    "plt.title(\"Elapsed Time Over Episodes\")\n",
    "plt.xlabel(\"Episode\")\n",
    "plt.ylabel(\"Time (s)\")\n",
    "plt.grid(True)\n",
    "plt.legend()\n",
    "\n",
    "plt.tight_layout()\n",
    "plt.show()\n"
   ]
  },
  {
   "cell_type": "markdown",
   "metadata": {},
   "source": [
    "# Q-value visualization"
   ]
  },
  {
   "cell_type": "code",
   "execution_count": null,
   "metadata": {},
   "outputs": [],
   "source": [
    "q_values = model.predict(state[np.newaxis])[0]\n",
    "plt.bar([\"Left\", \"Stay\", \"Right\"], q_values)\n",
    "plt.title(f\"Q-values (State: {state})\")\n",
    "plt.show()"
   ]
  },
  {
   "cell_type": "code",
   "execution_count": 21,
   "metadata": {},
   "outputs": [],
   "source": [
    "model.save(\"brick_breaker_dqn.keras\")"
   ]
  }
 ],
 "metadata": {
  "kernelspec": {
   "display_name": ".venv",
   "language": "python",
   "name": "python3"
  },
  "language_info": {
   "name": "python",
   "version": "3.12.7"
  },
  "orig_nbformat": 4
 },
 "nbformat": 4,
 "nbformat_minor": 2
}
