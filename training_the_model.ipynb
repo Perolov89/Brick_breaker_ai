{
 "cells": [
  {
   "cell_type": "markdown",
   "metadata": {},
   "source": [
    "# Imports"
   ]
  },
  {
   "cell_type": "code",
   "execution_count": 1,
   "metadata": {},
   "outputs": [],
   "source": [
    "import tensorflow as tf\n",
    "from keras import Sequential\n",
    "\n",
    "from keras.api.layers import *\n",
    "import numpy as np\n",
    "import random\n",
    "import matplotlib.pyplot as plt"
   ]
  },
  {
   "cell_type": "markdown",
   "metadata": {},
   "source": [
    "# Hyperparameters"
   ]
  },
  {
   "cell_type": "code",
   "execution_count": 2,
   "metadata": {},
   "outputs": [],
   "source": [
    "gamma = 0.99  # Discount factor (Increase gamma to encourage long-term rewards)\n",
    "epsilon = 1  # Exploration rate\n",
    "epsilon_min = 0.1\n",
    "epsilon_decay = 0.995 # Decay in exploration\n",
    "learning_rate = 0.001 # Reasonable learning rate for 32 batch size\n",
    "batch_size = 32\n",
    "memory = []"
   ]
  },
  {
   "cell_type": "markdown",
   "metadata": {},
   "source": [
    "# Build the DQN"
   ]
  },
  {
   "cell_type": "code",
   "execution_count": 3,
   "metadata": {},
   "outputs": [],
   "source": [
    "\n",
    "model = Sequential([\n",
    "    Input(shape=(7,)), \n",
    "    Dense(32, activation='relu'),\n",
    "    Dense(32, activation='relu'),\n",
    "    Dense(3, activation='linear')\n",
    "])\n",
    "model.compile(optimizer=tf.keras.optimizers.Adam(learning_rate=learning_rate), loss='mse')"
   ]
  },
  {
   "cell_type": "markdown",
   "metadata": {},
   "source": [
    "# Experience replay"
   ]
  },
  {
   "cell_type": "code",
   "execution_count": 5,
   "metadata": {},
   "outputs": [],
   "source": [
    "def replay():\n",
    "    td_errors = []\n",
    "    for state, action, reward, next_state, done in memory:\n",
    "        # debugging\n",
    "        if state.shape[-1] != 7 or next_state.shape[-1] != 7:\n",
    "            raise ValueError(f\"State or next_state has incorrect shape: \"\n",
    "                            f\"{state.shape}, {next_state.shape}\")\n",
    "        # \n",
    "        target = reward\n",
    "        if not done:\n",
    "            target += gamma * np.amax(model.predict(next_state[np.newaxis]))\n",
    "        predicted = model.predict(state[np.newaxis])[0][action]\n",
    "        td_errors.append(abs(target - predicted))\n",
    "\n",
    "    probabilities = np.array(td_errors) / sum(td_errors)\n",
    "    batch_indices = np.random.choice(len(memory), batch_size, p=probabilities)\n",
    "    batch = [memory[i] for i in batch_indices]\n",
    "    # debugging\n",
    "    for sample in batch:\n",
    "        state, action, reward, next_state, done = sample\n",
    "        assert state.shape[-1] == 7 and next_state.shape[-1] == 7, \\\n",
    "            f\"Sampled state or next_state has incorrect shape: {state.shape}, {next_state.shape}\"\n",
    "    # \n",
    "\n",
    "    for state, action, reward, next_state, done in batch:\n",
    "        target = reward\n",
    "        if not done:\n",
    "            target += gamma * np.amax(model.predict(next_state[np.newaxis]))\n",
    "        target_f = model.predict(state[np.newaxis])\n",
    "        target_f[0][action] = target\n",
    "        model.fit(state[np.newaxis], target_f, epochs=1, verbose=0)"
   ]
  },
  {
   "cell_type": "markdown",
   "metadata": {},
   "source": [
    "# Train the model"
   ]
  },
  {
   "cell_type": "code",
   "execution_count": 6,
   "metadata": {},
   "outputs": [
    {
     "name": "stdout",
     "output_type": "stream",
     "text": [
      "pygame 2.6.1 (SDL 2.28.4, Python 3.12.7)\n",
      "Hello from the pygame community. https://www.pygame.org/contribute.html\n"
     ]
    },
    {
     "name": "stderr",
     "output_type": "stream",
     "text": [
      "Training Progress:  10%|█         | 1/10 [00:03<00:34,  3.87s/it]"
     ]
    },
    {
     "name": "stdout",
     "output_type": "stream",
     "text": [
      "Episode: 0, Total Reward: 0, Time: 0.00s, Score: 0\n"
     ]
    },
    {
     "name": "stderr",
     "output_type": "stream",
     "text": [
      "Training Progress:  20%|██        | 2/10 [00:09<00:39,  4.92s/it]"
     ]
    },
    {
     "name": "stdout",
     "output_type": "stream",
     "text": [
      "Episode: 1, Total Reward: 0, Time: 0.00s, Score: 10\n"
     ]
    },
    {
     "name": "stderr",
     "output_type": "stream",
     "text": [
      "Training Progress:  30%|███       | 3/10 [00:16<00:40,  5.79s/it]"
     ]
    },
    {
     "name": "stdout",
     "output_type": "stream",
     "text": [
      "Episode: 2, Total Reward: 0, Time: 0.00s, Score: 0\n"
     ]
    },
    {
     "name": "stderr",
     "output_type": "stream",
     "text": [
      "Training Progress:  30%|███       | 3/10 [00:19<00:45,  6.52s/it]\n"
     ]
    },
    {
     "ename": "KeyboardInterrupt",
     "evalue": "",
     "output_type": "error",
     "traceback": [
      "\u001b[0;31m---------------------------------------------------------------------------\u001b[0m",
      "\u001b[0;31mKeyboardInterrupt\u001b[0m                         Traceback (most recent call last)",
      "Cell \u001b[0;32mIn[6], line 31\u001b[0m\n\u001b[1;32m     28\u001b[0m     \u001b[39mif\u001b[39;00m done:\n\u001b[1;32m     29\u001b[0m         \u001b[39mbreak\u001b[39;00m\n\u001b[0;32m---> 31\u001b[0m replay()\n\u001b[1;32m     32\u001b[0m rewards\u001b[39m.\u001b[39mappend(total_reward)  \n\u001b[1;32m     33\u001b[0m scores\u001b[39m.\u001b[39mappend(info[\u001b[39m'\u001b[39m\u001b[39mscore\u001b[39m\u001b[39m'\u001b[39m])  \n",
      "Cell \u001b[0;32mIn[5], line 11\u001b[0m, in \u001b[0;36mreplay\u001b[0;34m()\u001b[0m\n\u001b[1;32m      9\u001b[0m target \u001b[39m=\u001b[39m reward\n\u001b[1;32m     10\u001b[0m \u001b[39mif\u001b[39;00m \u001b[39mnot\u001b[39;00m done:\n\u001b[0;32m---> 11\u001b[0m     target \u001b[39m+\u001b[39m\u001b[39m=\u001b[39m gamma \u001b[39m*\u001b[39m np\u001b[39m.\u001b[39mamax(model\u001b[39m.\u001b[39;49mpredict(next_state[np\u001b[39m.\u001b[39;49mnewaxis]))\n\u001b[1;32m     12\u001b[0m predicted \u001b[39m=\u001b[39m model\u001b[39m.\u001b[39mpredict(state[np\u001b[39m.\u001b[39mnewaxis])[\u001b[39m0\u001b[39m][action]\n\u001b[1;32m     13\u001b[0m td_errors\u001b[39m.\u001b[39mappend(\u001b[39mabs\u001b[39m(target \u001b[39m-\u001b[39m predicted))\n",
      "File \u001b[0;32m~/projects/Brick_breaker_ai/.venv/lib/python3.12/site-packages/keras/src/utils/traceback_utils.py:117\u001b[0m, in \u001b[0;36mfilter_traceback.<locals>.error_handler\u001b[0;34m(*args, **kwargs)\u001b[0m\n\u001b[1;32m    115\u001b[0m filtered_tb \u001b[39m=\u001b[39m \u001b[39mNone\u001b[39;00m\n\u001b[1;32m    116\u001b[0m \u001b[39mtry\u001b[39;00m:\n\u001b[0;32m--> 117\u001b[0m     \u001b[39mreturn\u001b[39;00m fn(\u001b[39m*\u001b[39;49margs, \u001b[39m*\u001b[39;49m\u001b[39m*\u001b[39;49mkwargs)\n\u001b[1;32m    118\u001b[0m \u001b[39mexcept\u001b[39;00m \u001b[39mException\u001b[39;00m \u001b[39mas\u001b[39;00m e:\n\u001b[1;32m    119\u001b[0m     filtered_tb \u001b[39m=\u001b[39m _process_traceback_frames(e\u001b[39m.\u001b[39m__traceback__)\n",
      "File \u001b[0;32m~/projects/Brick_breaker_ai/.venv/lib/python3.12/site-packages/keras/src/backend/tensorflow/trainer.py:556\u001b[0m, in \u001b[0;36mTensorFlowTrainer.predict\u001b[0;34m(self, x, batch_size, verbose, steps, callbacks)\u001b[0m\n\u001b[1;32m    554\u001b[0m outputs \u001b[39m=\u001b[39m \u001b[39mNone\u001b[39;00m\n\u001b[1;32m    555\u001b[0m \u001b[39mwith\u001b[39;00m epoch_iterator\u001b[39m.\u001b[39mcatch_stop_iteration():\n\u001b[0;32m--> 556\u001b[0m     \u001b[39mfor\u001b[39;49;00m step, iterator \u001b[39min\u001b[39;49;00m epoch_iterator:\n\u001b[1;32m    557\u001b[0m         callbacks\u001b[39m.\u001b[39;49mon_predict_batch_begin(step)\n\u001b[1;32m    558\u001b[0m         data \u001b[39m=\u001b[39;49m get_data(iterator)\n",
      "File \u001b[0;32m~/projects/Brick_breaker_ai/.venv/lib/python3.12/site-packages/keras/src/backend/tensorflow/trainer.py:729\u001b[0m, in \u001b[0;36mTFEpochIterator.__next__\u001b[0;34m(self)\u001b[0m\n\u001b[1;32m    728\u001b[0m \u001b[39mdef\u001b[39;00m \u001b[39m__next__\u001b[39m(\u001b[39mself\u001b[39m):\n\u001b[0;32m--> 729\u001b[0m     \u001b[39mreturn\u001b[39;00m \u001b[39mnext\u001b[39;49m(\u001b[39mself\u001b[39;49m\u001b[39m.\u001b[39;49m_epoch_iterator)\n",
      "File \u001b[0;32m~/projects/Brick_breaker_ai/.venv/lib/python3.12/site-packages/keras/src/trainers/epoch_iterator.py:112\u001b[0m, in \u001b[0;36mEpochIterator._enumerate_iterator\u001b[0;34m(self)\u001b[0m\n\u001b[1;32m    110\u001b[0m         \u001b[39myield\u001b[39;00m step, \u001b[39mself\u001b[39m\u001b[39m.\u001b[39m_current_iterator\n\u001b[1;32m    111\u001b[0m     \u001b[39mif\u001b[39;00m \u001b[39mself\u001b[39m\u001b[39m.\u001b[39m_num_batches \u001b[39mand\u001b[39;00m \u001b[39mself\u001b[39m\u001b[39m.\u001b[39m_steps_seen \u001b[39m>\u001b[39m\u001b[39m=\u001b[39m \u001b[39mself\u001b[39m\u001b[39m.\u001b[39m_num_batches:\n\u001b[0;32m--> 112\u001b[0m         \u001b[39mself\u001b[39m\u001b[39m.\u001b[39m_current_iterator \u001b[39m=\u001b[39m \u001b[39miter\u001b[39;49m(\u001b[39mself\u001b[39;49m\u001b[39m.\u001b[39;49m_get_iterator())\n\u001b[1;32m    113\u001b[0m         \u001b[39mself\u001b[39m\u001b[39m.\u001b[39m_steps_seen \u001b[39m=\u001b[39m \u001b[39m0\u001b[39m\n\u001b[1;32m    114\u001b[0m \u001b[39melse\u001b[39;00m:\n",
      "File \u001b[0;32m~/projects/Brick_breaker_ai/.venv/lib/python3.12/site-packages/tensorflow/python/data/ops/dataset_ops.py:501\u001b[0m, in \u001b[0;36mDatasetV2.__iter__\u001b[0;34m(self)\u001b[0m\n\u001b[1;32m    499\u001b[0m \u001b[39mif\u001b[39;00m context\u001b[39m.\u001b[39mexecuting_eagerly() \u001b[39mor\u001b[39;00m ops\u001b[39m.\u001b[39minside_function():\n\u001b[1;32m    500\u001b[0m   \u001b[39mwith\u001b[39;00m ops\u001b[39m.\u001b[39mcolocate_with(\u001b[39mself\u001b[39m\u001b[39m.\u001b[39m_variant_tensor):\n\u001b[0;32m--> 501\u001b[0m     \u001b[39mreturn\u001b[39;00m iterator_ops\u001b[39m.\u001b[39;49mOwnedIterator(\u001b[39mself\u001b[39;49m)\n\u001b[1;32m    502\u001b[0m \u001b[39melse\u001b[39;00m:\n\u001b[1;32m    503\u001b[0m   \u001b[39mraise\u001b[39;00m \u001b[39mRuntimeError\u001b[39;00m(\u001b[39m\"\u001b[39m\u001b[39m`tf.data.Dataset` only supports Python-style \u001b[39m\u001b[39m\"\u001b[39m\n\u001b[1;32m    504\u001b[0m                      \u001b[39m\"\u001b[39m\u001b[39miteration in eager mode or within tf.function.\u001b[39m\u001b[39m\"\u001b[39m)\n",
      "File \u001b[0;32m~/projects/Brick_breaker_ai/.venv/lib/python3.12/site-packages/tensorflow/python/data/ops/iterator_ops.py:709\u001b[0m, in \u001b[0;36mOwnedIterator.__init__\u001b[0;34m(self, dataset, components, element_spec)\u001b[0m\n\u001b[1;32m    705\u001b[0m   \u001b[39mif\u001b[39;00m (components \u001b[39mis\u001b[39;00m \u001b[39mnot\u001b[39;00m \u001b[39mNone\u001b[39;00m \u001b[39mor\u001b[39;00m element_spec \u001b[39mis\u001b[39;00m \u001b[39mnot\u001b[39;00m \u001b[39mNone\u001b[39;00m):\n\u001b[1;32m    706\u001b[0m     \u001b[39mraise\u001b[39;00m \u001b[39mValueError\u001b[39;00m(\n\u001b[1;32m    707\u001b[0m         \u001b[39m\"\u001b[39m\u001b[39mWhen `dataset` is provided, `element_spec` and `components` must \u001b[39m\u001b[39m\"\u001b[39m\n\u001b[1;32m    708\u001b[0m         \u001b[39m\"\u001b[39m\u001b[39mnot be specified.\u001b[39m\u001b[39m\"\u001b[39m)\n\u001b[0;32m--> 709\u001b[0m   \u001b[39mself\u001b[39;49m\u001b[39m.\u001b[39;49m_create_iterator(dataset)\n\u001b[1;32m    711\u001b[0m \u001b[39mself\u001b[39m\u001b[39m.\u001b[39m_get_next_call_count \u001b[39m=\u001b[39m \u001b[39m0\u001b[39m\n",
      "File \u001b[0;32m~/projects/Brick_breaker_ai/.venv/lib/python3.12/site-packages/tensorflow/python/data/ops/iterator_ops.py:748\u001b[0m, in \u001b[0;36mOwnedIterator._create_iterator\u001b[0;34m(self, dataset)\u001b[0m\n\u001b[1;32m    745\u001b[0m   \u001b[39massert\u001b[39;00m \u001b[39mlen\u001b[39m(fulltype\u001b[39m.\u001b[39margs[\u001b[39m0\u001b[39m]\u001b[39m.\u001b[39margs[\u001b[39m0\u001b[39m]\u001b[39m.\u001b[39margs) \u001b[39m==\u001b[39m \u001b[39mlen\u001b[39m(\n\u001b[1;32m    746\u001b[0m       \u001b[39mself\u001b[39m\u001b[39m.\u001b[39m_flat_output_types)\n\u001b[1;32m    747\u001b[0m   \u001b[39mself\u001b[39m\u001b[39m.\u001b[39m_iterator_resource\u001b[39m.\u001b[39mop\u001b[39m.\u001b[39mexperimental_set_type(fulltype)\n\u001b[0;32m--> 748\u001b[0m gen_dataset_ops\u001b[39m.\u001b[39;49mmake_iterator(ds_variant, \u001b[39mself\u001b[39;49m\u001b[39m.\u001b[39;49m_iterator_resource)\n",
      "File \u001b[0;32m~/projects/Brick_breaker_ai/.venv/lib/python3.12/site-packages/tensorflow/python/ops/gen_dataset_ops.py:3478\u001b[0m, in \u001b[0;36mmake_iterator\u001b[0;34m(dataset, iterator, name)\u001b[0m\n\u001b[1;32m   3476\u001b[0m \u001b[39mif\u001b[39;00m tld\u001b[39m.\u001b[39mis_eager:\n\u001b[1;32m   3477\u001b[0m   \u001b[39mtry\u001b[39;00m:\n\u001b[0;32m-> 3478\u001b[0m     _result \u001b[39m=\u001b[39m pywrap_tfe\u001b[39m.\u001b[39;49mTFE_Py_FastPathExecute(\n\u001b[1;32m   3479\u001b[0m       _ctx, \u001b[39m\"\u001b[39;49m\u001b[39mMakeIterator\u001b[39;49m\u001b[39m\"\u001b[39;49m, name, dataset, iterator)\n\u001b[1;32m   3480\u001b[0m     \u001b[39mreturn\u001b[39;00m _result\n\u001b[1;32m   3481\u001b[0m   \u001b[39mexcept\u001b[39;00m _core\u001b[39m.\u001b[39m_NotOkStatusException \u001b[39mas\u001b[39;00m e:\n",
      "\u001b[0;31mKeyboardInterrupt\u001b[0m: "
     ]
    }
   ],
   "source": [
    "from main import BrickBreakerEnv\n",
    "from tqdm import tqdm \n",
    "tf.keras.utils.disable_interactive_logging()\n",
    "\n",
    "env = BrickBreakerEnv()\n",
    "episodes = 10\n",
    "\n",
    "rewards = []\n",
    "scores = []\n",
    "times = []\n",
    "\n",
    "with tqdm(total=episodes, desc=\"Training Progress\") as pbar:\n",
    "    for e in range(episodes):\n",
    "        state = env.reset()\n",
    "        total_reward = 0\n",
    "\n",
    "        for _ in range(200):  # Max steps per episode\n",
    "            if np.random.rand() <= epsilon:\n",
    "                action = env.action_space.sample()  # Exploration\n",
    "            else:\n",
    "                q_values = model.predict(state[np.newaxis])\n",
    "                action = np.argmax(q_values)  # Exploitation: pick best action\n",
    "\n",
    "            next_state, reward, done, info = env.step(action)\n",
    "            memory.append((state, action, reward, next_state, done))\n",
    "            state = next_state\n",
    "\n",
    "            if done:\n",
    "                break\n",
    "\n",
    "        replay()\n",
    "        rewards.append(total_reward)  \n",
    "        scores.append(info['score'])  \n",
    "        times.append(info['time'])    \n",
    "        print(f\"Episode: {e}, Total Reward: {total_reward}, Time: {info['time']:.2f}s, Score: {info['score']}\")\n",
    "\n",
    "        # Update the progress bar\n",
    "        pbar.update(1)\n",
    "\n",
    "\n"
   ]
  },
  {
   "cell_type": "markdown",
   "metadata": {},
   "source": [
    "# Visualization"
   ]
  },
  {
   "cell_type": "code",
   "execution_count": null,
   "metadata": {},
   "outputs": [],
   "source": [
    "import matplotlib.pyplot as plt\n",
    "\n",
    "# Create an episode index\n",
    "episodes_index = list(range(1, len(rewards) + 1))\n",
    "\n",
    "# Plotting\n",
    "plt.figure(figsize=(12, 6))\n",
    "\n",
    "# Rewards plot\n",
    "plt.subplot(1, 3, 1)\n",
    "plt.plot(episodes_index, rewards, label=\"Rewards\", color=\"blue\")\n",
    "plt.title(\"Rewards Over Episodes\")\n",
    "plt.xlabel(\"Episode\")\n",
    "plt.ylabel(\"Total Reward\")\n",
    "plt.grid(True)\n",
    "plt.legend()\n",
    "\n",
    "# Scores plot\n",
    "plt.subplot(1, 3, 2)\n",
    "plt.plot(episodes_index, scores, label=\"Scores\", color=\"orange\")\n",
    "plt.title(\"Scores Over Episodes\")\n",
    "plt.xlabel(\"Episode\")\n",
    "plt.ylabel(\"Score\")\n",
    "plt.grid(True)\n",
    "plt.legend()\n",
    "\n",
    "# Times plot\n",
    "plt.subplot(1, 3, 3)\n",
    "plt.plot(episodes_index, times, label=\"Elapsed Time (s)\", color=\"green\")\n",
    "plt.title(\"Elapsed Time Over Episodes\")\n",
    "plt.xlabel(\"Episode\")\n",
    "plt.ylabel(\"Time (s)\")\n",
    "plt.grid(True)\n",
    "plt.legend()\n",
    "\n",
    "plt.tight_layout()\n",
    "plt.show()"
   ]
  },
  {
   "cell_type": "markdown",
   "metadata": {},
   "source": [
    "# Q-value visualization"
   ]
  },
  {
   "cell_type": "code",
   "execution_count": null,
   "metadata": {},
   "outputs": [],
   "source": [
    "q_values = model.predict(state[np.newaxis])[0]\n",
    "plt.bar([\"Left\", \"Stay\", \"Right\"], q_values)\n",
    "plt.title(f\"Q-values (State: {state})\")\n",
    "plt.show()"
   ]
  },
  {
   "cell_type": "code",
   "execution_count": null,
   "metadata": {},
   "outputs": [],
   "source": [
    "model.save(\"brick_breaker_dqn.keras\")"
   ]
  }
 ],
 "metadata": {
  "kernelspec": {
   "display_name": ".venv",
   "language": "python",
   "name": "python3"
  },
  "language_info": {
   "codemirror_mode": {
    "name": "ipython",
    "version": 3
   },
   "file_extension": ".py",
   "mimetype": "text/x-python",
   "name": "python",
   "nbconvert_exporter": "python",
   "pygments_lexer": "ipython3",
   "version": "3.12.7"
  },
  "orig_nbformat": 4
 },
 "nbformat": 4,
 "nbformat_minor": 2
}
